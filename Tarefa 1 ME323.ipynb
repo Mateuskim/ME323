{
 "cells": [
  {
   "cell_type": "code",
   "execution_count": 92,
   "metadata": {},
   "outputs": [],
   "source": [
    "import random\n",
    "\n",
    "def simulacao_porta_dos_desesperados(estrategia, porta=(1, 2, 3)):\n",
    "    \n",
    "    \"Escolha aleatoria da porta na qual o carro se encontra\"\n",
    "    carro    = random.choice(porta)\n",
    "    \n",
    "    \"Escolha da porta pelo candidato\"\n",
    "    escolha   = random.choice(porta)\n",
    "    \n",
    "    \"Escolha da porta aberta pelo apresentador dado que nao seja a que tenha o carro\"\n",
    "    \"nem a da escolha do jogador\"\n",
    "    porta_aberta = random.choice([aux for aux in porta if aux != carro and aux != escolha])\n",
    "    \n",
    "    \"Para a estrategia 'troca' aplicada, retorna true caso a estrategia ganha\"\n",
    "    if estrategia == 'troca':\n",
    "        escolha = next(aux for aux in porta if aux != escolha and aux != porta_aberta)\n",
    "    return (escolha == carro)"
   ]
  },
  {
   "cell_type": "code",
   "execution_count": 116,
   "metadata": {},
   "outputs": [
    {
     "data": {
      "text/plain": [
       "Counter({False: 3379, True: 6621})"
      ]
     },
     "execution_count": 116,
     "metadata": {},
     "output_type": "execute_result"
    }
   ],
   "source": [
    "from collections import Counter\n",
    "\n",
    "Counter(simulacao_porta_dos_desesperados('troca') for _ in range(10 ** 4))"
   ]
  },
  {
   "cell_type": "code",
   "execution_count": 136,
   "metadata": {},
   "outputs": [
    {
     "data": {
      "text/plain": [
       "Counter({False: 6700, True: 3300})"
      ]
     },
     "execution_count": 136,
     "metadata": {},
     "output_type": "execute_result"
    }
   ],
   "source": [
    "Counter(simulacao_porta_dos_desesperados('mantem_porta') for _ in range(10 ** 4))"
   ]
  },
  {
   "cell_type": "code",
   "execution_count": null,
   "metadata": {},
   "outputs": [],
   "source": []
  }
 ],
 "metadata": {
  "kernelspec": {
   "display_name": "Python 3",
   "language": "python",
   "name": "python3"
  },
  "language_info": {
   "codemirror_mode": {
    "name": "ipython",
    "version": 3
   },
   "file_extension": ".py",
   "mimetype": "text/x-python",
   "name": "python",
   "nbconvert_exporter": "python",
   "pygments_lexer": "ipython3",
   "version": "3.7.1"
  }
 },
 "nbformat": 4,
 "nbformat_minor": 2
}
